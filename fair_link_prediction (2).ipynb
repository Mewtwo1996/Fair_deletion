{
 "cells": [
  {
   "cell_type": "code",
   "execution_count": 2,
   "metadata": {
    "tags": []
   },
   "outputs": [],
   "source": [
    "import os\n",
    "import os.path as osp\n",
    "\n",
    "from torch_geometric.datasets import Planetoid\n",
    "import torch_geometric.transforms as T\n",
    "from torch_geometric.utils import negative_sampling\n",
    "from torch_geometric.nn import GCNConv\n",
    "import numpy as np\n",
    "import torch\n",
    "from torch.nn import Sequential, Linear, ReLU\n",
    "import torch.nn.functional as F\n",
    "from sklearn.metrics import roc_auc_score, accuracy_score\n",
    "\n",
    "from utils import (\n",
    "    get_link_labels,\n",
    "    prediction_fairness,\n",
    ")\n",
    "\n",
    "from torch_geometric.utils import train_test_split_edges\n",
    "\n",
    "device = \"cuda\" if torch.cuda.is_available() else \"cpu\""
   ]
  },
  {
   "cell_type": "code",
   "execution_count": 3,
   "metadata": {
    "tags": []
   },
   "outputs": [],
   "source": [
    "class GCN(torch.nn.Module):\n",
    "    def __init__(self, in_channels, out_channels):\n",
    "        super(GCN, self).__init__()\n",
    "        self.conv1 = GCNConv(in_channels, 128)\n",
    "        self.conv2 = GCNConv(128, out_channels)\n",
    "\n",
    "    def encode(self, x, pos_edge_index):\n",
    "        x = F.relu(self.conv1(x, pos_edge_index))\n",
    "        x = self.conv2(x, pos_edge_index)\n",
    "        return x\n",
    "\n",
    "    def decode(self, z, pos_edge_index, neg_edge_index):\n",
    "        edge_index = torch.cat([pos_edge_index, neg_edge_index], dim=-1)\n",
    "        logits = (z[edge_index[0]] * z[edge_index[1]]).sum(dim=-1)\n",
    "        return logits, edge_index"
   ]
  },
  {
   "cell_type": "code",
   "execution_count": 7,
   "metadata": {
    "tags": []
   },
   "outputs": [],
   "source": [
    "dataset = \"citeseer\" #\"cora\" \"pubmed\"\n",
    "#dataset = \"pubmed\"\n",
    "path = osp.join(osp.dirname(osp.realpath('__file__')), \"..\", \"data\", dataset)\n",
    "dataset = Planetoid(path, dataset, transform=T.NormalizeFeatures())"
   ]
  },
  {
   "cell_type": "code",
   "execution_count": 8,
   "metadata": {
    "tags": []
   },
   "outputs": [],
   "source": [
    "test_seeds = [0,1,2,3,4,5]\n",
    "acc_auc = []\n",
    "fairness = []"
   ]
  },
  {
   "cell_type": "code",
   "execution_count": 9,
   "metadata": {
    "tags": []
   },
   "outputs": [
    {
     "name": "stderr",
     "output_type": "stream",
     "text": [
      "/opt/conda/envs/graph/lib/python3.8/site-packages/torch_geometric/deprecation.py:12: UserWarning: 'train_test_split_edges' is deprecated, use 'transforms.RandomLinkSplit' instead\n",
      "  warnings.warn(out)\n"
     ]
    },
    {
     "name": "stdout",
     "output_type": "stream",
     "text": [
      "Epoch: 010, Loss: 0.6321, Val: 0.8013, Test: 0.8013\n",
      "Epoch: 020, Loss: 0.5780, Val: 0.8013, Test: 0.8013\n",
      "Epoch: 030, Loss: 0.5361, Val: 0.8313, Test: 0.8288\n",
      "Epoch: 040, Loss: 0.5245, Val: 0.8635, Test: 0.8454\n",
      "Epoch: 050, Loss: 0.5166, Val: 0.8635, Test: 0.8454\n",
      "Epoch: 060, Loss: 0.5044, Val: 0.8692, Test: 0.8665\n",
      "Epoch: 070, Loss: 0.4885, Val: 0.8722, Test: 0.8743\n",
      "Epoch: 080, Loss: 0.4775, Val: 0.8830, Test: 0.8823\n",
      "Epoch: 090, Loss: 0.4743, Val: 0.8961, Test: 0.8892\n",
      "Epoch: 100, Loss: 0.4770, Val: 0.8977, Test: 0.8894\n"
     ]
    },
    {
     "name": "stderr",
     "output_type": "stream",
     "text": [
      "/opt/conda/envs/graph/lib/python3.8/site-packages/torch_geometric/deprecation.py:12: UserWarning: 'train_test_split_edges' is deprecated, use 'transforms.RandomLinkSplit' instead\n",
      "  warnings.warn(out)\n"
     ]
    },
    {
     "name": "stdout",
     "output_type": "stream",
     "text": [
      "Epoch: 010, Loss: 0.6360, Val: 0.8405, Test: 0.8435\n",
      "Epoch: 020, Loss: 0.5798, Val: 0.8405, Test: 0.8435\n",
      "Epoch: 030, Loss: 0.5487, Val: 0.8405, Test: 0.8435\n",
      "Epoch: 040, Loss: 0.5216, Val: 0.8767, Test: 0.8415\n",
      "Epoch: 050, Loss: 0.5001, Val: 0.8920, Test: 0.8669\n",
      "Epoch: 060, Loss: 0.4961, Val: 0.8938, Test: 0.8814\n",
      "Epoch: 070, Loss: 0.4874, Val: 0.9042, Test: 0.8888\n",
      "Epoch: 080, Loss: 0.4693, Val: 0.9071, Test: 0.8890\n",
      "Epoch: 090, Loss: 0.4722, Val: 0.9071, Test: 0.8890\n",
      "Epoch: 100, Loss: 0.4762, Val: 0.9071, Test: 0.8890\n"
     ]
    },
    {
     "name": "stderr",
     "output_type": "stream",
     "text": [
      "/opt/conda/envs/graph/lib/python3.8/site-packages/torch_geometric/deprecation.py:12: UserWarning: 'train_test_split_edges' is deprecated, use 'transforms.RandomLinkSplit' instead\n",
      "  warnings.warn(out)\n"
     ]
    },
    {
     "name": "stdout",
     "output_type": "stream",
     "text": [
      "Epoch: 010, Loss: 0.6303, Val: 0.7701, Test: 0.8078\n",
      "Epoch: 020, Loss: 0.5771, Val: 0.7701, Test: 0.8078\n",
      "Epoch: 030, Loss: 0.5364, Val: 0.8251, Test: 0.8534\n",
      "Epoch: 040, Loss: 0.5270, Val: 0.8572, Test: 0.8720\n",
      "Epoch: 050, Loss: 0.4997, Val: 0.8629, Test: 0.8790\n",
      "Epoch: 060, Loss: 0.4947, Val: 0.8641, Test: 0.8806\n",
      "Epoch: 070, Loss: 0.4953, Val: 0.8648, Test: 0.8825\n",
      "Epoch: 080, Loss: 0.4920, Val: 0.8648, Test: 0.8825\n",
      "Epoch: 090, Loss: 0.4816, Val: 0.8717, Test: 0.8878\n",
      "Epoch: 100, Loss: 0.4821, Val: 0.8803, Test: 0.8959\n"
     ]
    },
    {
     "name": "stderr",
     "output_type": "stream",
     "text": [
      "/opt/conda/envs/graph/lib/python3.8/site-packages/torch_geometric/deprecation.py:12: UserWarning: 'train_test_split_edges' is deprecated, use 'transforms.RandomLinkSplit' instead\n",
      "  warnings.warn(out)\n"
     ]
    },
    {
     "name": "stdout",
     "output_type": "stream",
     "text": [
      "Epoch: 010, Loss: 0.6283, Val: 0.7644, Test: 0.7867\n",
      "Epoch: 020, Loss: 0.5703, Val: 0.7751, Test: 0.8004\n",
      "Epoch: 030, Loss: 0.5423, Val: 0.7925, Test: 0.8303\n",
      "Epoch: 040, Loss: 0.5162, Val: 0.8275, Test: 0.8581\n",
      "Epoch: 050, Loss: 0.5157, Val: 0.8281, Test: 0.8573\n",
      "Epoch: 060, Loss: 0.4946, Val: 0.8417, Test: 0.8755\n",
      "Epoch: 070, Loss: 0.4928, Val: 0.8537, Test: 0.8862\n",
      "Epoch: 080, Loss: 0.4839, Val: 0.8556, Test: 0.8881\n",
      "Epoch: 090, Loss: 0.4876, Val: 0.8563, Test: 0.8865\n",
      "Epoch: 100, Loss: 0.4734, Val: 0.8563, Test: 0.8865\n"
     ]
    },
    {
     "name": "stderr",
     "output_type": "stream",
     "text": [
      "/opt/conda/envs/graph/lib/python3.8/site-packages/torch_geometric/deprecation.py:12: UserWarning: 'train_test_split_edges' is deprecated, use 'transforms.RandomLinkSplit' instead\n",
      "  warnings.warn(out)\n"
     ]
    },
    {
     "name": "stdout",
     "output_type": "stream",
     "text": [
      "Epoch: 010, Loss: 0.6353, Val: 0.8114, Test: 0.8214\n",
      "Epoch: 020, Loss: 0.5762, Val: 0.8114, Test: 0.8214\n",
      "Epoch: 030, Loss: 0.5319, Val: 0.8222, Test: 0.8503\n",
      "Epoch: 040, Loss: 0.5264, Val: 0.8242, Test: 0.8551\n",
      "Epoch: 050, Loss: 0.5078, Val: 0.8305, Test: 0.8532\n",
      "Epoch: 060, Loss: 0.5015, Val: 0.8321, Test: 0.8493\n",
      "Epoch: 070, Loss: 0.4934, Val: 0.8451, Test: 0.8627\n",
      "Epoch: 080, Loss: 0.4834, Val: 0.8683, Test: 0.8863\n",
      "Epoch: 090, Loss: 0.4762, Val: 0.8756, Test: 0.8960\n",
      "Epoch: 100, Loss: 0.4772, Val: 0.8771, Test: 0.8967\n"
     ]
    },
    {
     "name": "stderr",
     "output_type": "stream",
     "text": [
      "/opt/conda/envs/graph/lib/python3.8/site-packages/torch_geometric/deprecation.py:12: UserWarning: 'train_test_split_edges' is deprecated, use 'transforms.RandomLinkSplit' instead\n",
      "  warnings.warn(out)\n"
     ]
    },
    {
     "name": "stdout",
     "output_type": "stream",
     "text": [
      "Epoch: 010, Loss: 0.6300, Val: 0.8302, Test: 0.8228\n",
      "Epoch: 020, Loss: 0.5519, Val: 0.8302, Test: 0.8228\n",
      "Epoch: 030, Loss: 0.5149, Val: 0.8564, Test: 0.8443\n",
      "Epoch: 040, Loss: 0.5169, Val: 0.8601, Test: 0.8435\n",
      "Epoch: 050, Loss: 0.5063, Val: 0.8601, Test: 0.8435\n",
      "Epoch: 060, Loss: 0.4945, Val: 0.8694, Test: 0.8419\n",
      "Epoch: 070, Loss: 0.5070, Val: 0.8858, Test: 0.8538\n",
      "Epoch: 080, Loss: 0.4836, Val: 0.8981, Test: 0.8615\n",
      "Epoch: 090, Loss: 0.4858, Val: 0.8990, Test: 0.8614\n",
      "Epoch: 100, Loss: 0.4833, Val: 0.8998, Test: 0.8694\n"
     ]
    }
   ],
   "source": [
    "delta = 0.16\n",
    "\n",
    "for random_seed in test_seeds:\n",
    "\n",
    "    np.random.seed(random_seed)\n",
    "    data = dataset[0]\n",
    "    protected_attribute = data.y\n",
    "    data.train_mask = data.val_mask = data.test_mask = data.y = None\n",
    "    data = train_test_split_edges(data, val_ratio=0.1, test_ratio=0.2)\n",
    "    data = data.to(device)\n",
    "\n",
    "    num_classes = len(np.unique(protected_attribute))\n",
    "    N = data.num_nodes\n",
    "    \n",
    "    \n",
    "    epochs = 101\n",
    "    model = GCN(data.num_features, 128).to(device)\n",
    "    optimizer = torch.optim.Adam(model.parameters(), lr=0.005)\n",
    "    \n",
    "\n",
    "    Y = torch.LongTensor(protected_attribute).to(device)\n",
    "    Y_aux = (\n",
    "        Y[data.train_pos_edge_index[0, :]] != Y[data.train_pos_edge_index[1, :]]\n",
    "    ).to(device)\n",
    "    randomization = (\n",
    "        torch.FloatTensor(epochs, Y_aux.size(0)).uniform_() < 0.5 + delta\n",
    "    ).to(device)\n",
    "    \n",
    "    \n",
    "    best_val_perf = test_perf = 0\n",
    "    for epoch in range(1, epochs):\n",
    "        # TRAINING    \n",
    "        neg_edges_tr = negative_sampling(\n",
    "            edge_index=data.train_pos_edge_index,\n",
    "            num_nodes=N,\n",
    "            num_neg_samples=data.train_pos_edge_index.size(1) // 2,\n",
    "        ).to(device)\n",
    "\n",
    "        if epoch == 1 or epoch % 10 == 0:\n",
    "            keep = torch.where(randomization[epoch], Y_aux, ~Y_aux)\n",
    "\n",
    "        model.train()\n",
    "        optimizer.zero_grad()\n",
    "\n",
    "        z = model.encode(data.x, data.train_pos_edge_index[:, keep])\n",
    "        link_logits, _ = model.decode(\n",
    "            z, data.train_pos_edge_index[:, keep], neg_edges_tr\n",
    "        )\n",
    "        tr_labels = get_link_labels(\n",
    "            data.train_pos_edge_index[:, keep], neg_edges_tr\n",
    "        ).to(device)\n",
    "        \n",
    "        loss = F.binary_cross_entropy_with_logits(link_logits, tr_labels)\n",
    "        loss.backward()\n",
    "        optimizer.step()\n",
    "\n",
    "        # EVALUATION\n",
    "        model.eval()\n",
    "        perfs = []\n",
    "        for prefix in [\"val\", \"test\"]:\n",
    "            pos_edge_index = data[f\"{prefix}_pos_edge_index\"]\n",
    "            neg_edge_index = data[f\"{prefix}_neg_edge_index\"]\n",
    "            with torch.no_grad():\n",
    "                z = model.encode(data.x, data.train_pos_edge_index)\n",
    "                link_logits, edge_idx = model.decode(z, pos_edge_index, neg_edge_index)\n",
    "            link_probs = link_logits.sigmoid()\n",
    "            link_labels = get_link_labels(pos_edge_index, neg_edge_index)\n",
    "            auc = roc_auc_score(link_labels.cpu(), link_probs.cpu())\n",
    "            perfs.append(auc)\n",
    "\n",
    "        val_perf, tmp_test_perf = perfs\n",
    "        if val_perf > best_val_perf:\n",
    "            best_val_perf = val_perf\n",
    "            test_perf = tmp_test_perf\n",
    "        if epoch%10==0:\n",
    "            log = \"Epoch: {:03d}, Loss: {:.4f}, Val: {:.4f}, Test: {:.4f}\"\n",
    "            print(log.format(epoch, loss, best_val_perf, test_perf))\n",
    "\n",
    "    # FAIRNESS\n",
    "    auc = test_perf\n",
    "    cut = [0.45, 0.50, 0.55, 0.60, 0.65, 0.70, 0.75]\n",
    "    best_acc = 0\n",
    "    best_cut = 0.5\n",
    "    for i in cut:\n",
    "        acc = accuracy_score(link_labels.cpu(), link_probs.cpu() >= i)\n",
    "        if acc > best_acc:\n",
    "            best_acc = acc\n",
    "            best_cut = i\n",
    "    f = prediction_fairness(\n",
    "        edge_idx.cpu(), link_labels.cpu(), link_probs.cpu() >= best_cut, Y.cpu()\n",
    "    )\n",
    "    acc_auc.append([best_acc * 100, auc * 100])\n",
    "    fairness.append([x * 100 for x in f])"
   ]
  },
  {
   "cell_type": "code",
   "execution_count": 10,
   "metadata": {
    "tags": []
   },
   "outputs": [
    {
     "name": "stdout",
     "output_type": "stream",
     "text": [
      "ACC: 79.358974 +- 1.037025\n",
      "AUC: 88.782202 +- 0.904982\n",
      "DP mix: 45.829692 +- 2.456295\n",
      "EoP mix: 28.844359 +- 6.723988\n",
      "DP group: 22.011666 +- 2.428847\n",
      "EoP group: 21.349084 +- 3.382816\n",
      "DP sub: 70.934783 +- 2.438119\n",
      "EoP sub: 69.881827 +- 16.049702\n"
     ]
    }
   ],
   "source": [
    "ma = np.mean(np.asarray(acc_auc), axis=0)\n",
    "mf = np.mean(np.asarray(fairness), axis=0)\n",
    "\n",
    "sa = np.std(np.asarray(acc_auc), axis=0)\n",
    "sf = np.std(np.asarray(fairness), axis=0)\n",
    "\n",
    "print(f\"ACC: {ma[0]:2f} +- {sa[0]:2f}\")\n",
    "print(f\"AUC: {ma[1]:2f} +- {sa[1]:2f}\")\n",
    "\n",
    "print(f\"DP mix: {mf[0]:2f} +- {sf[0]:2f}\")\n",
    "print(f\"EoP mix: {mf[1]:2f} +- {sf[1]:2f}\")\n",
    "print(f\"DP group: {mf[2]:2f} +- {sf[2]:2f}\")\n",
    "print(f\"EoP group: {mf[3]:2f} +- {sf[3]:2f}\")\n",
    "print(f\"DP sub: {mf[4]:2f} +- {sf[4]:2f}\")\n",
    "print(f\"EoP sub: {mf[5]:2f} +- {sf[5]:2f}\")"
   ]
  },
  {
   "cell_type": "code",
   "execution_count": null,
   "metadata": {},
   "outputs": [],
   "source": []
  },
  {
   "cell_type": "code",
   "execution_count": null,
   "metadata": {},
   "outputs": [],
   "source": []
  }
 ],
 "metadata": {
  "environment": {
   "kernel": "graph",
   "name": "tf2-cpu.2-11.m123",
   "type": "gcloud",
   "uri": "us-docker.pkg.dev/deeplearning-platform-release/gcr.io/tf2-cpu.2-11:m123"
  },
  "kernelspec": {
   "display_name": "graph (Local)",
   "language": "python",
   "name": "graph"
  },
  "language_info": {
   "codemirror_mode": {
    "name": "ipython",
    "version": 3
   },
   "file_extension": ".py",
   "mimetype": "text/x-python",
   "name": "python",
   "nbconvert_exporter": "python",
   "pygments_lexer": "ipython3",
   "version": "3.8.19"
  }
 },
 "nbformat": 4,
 "nbformat_minor": 4
}
